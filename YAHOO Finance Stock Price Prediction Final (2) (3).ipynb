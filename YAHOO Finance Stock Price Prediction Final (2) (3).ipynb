{
 "cells": [
  {
   "cell_type": "markdown",
   "id": "8f2c07f3",
   "metadata": {
    "papermill": {
     "duration": 0.007704,
     "end_time": "2023-10-16T19:31:54.479583",
     "exception": false,
     "start_time": "2023-10-16T19:31:54.471879",
     "status": "completed"
    },
    "tags": []
   },
   "source": [
    "## Import Libraries"
   ]
  },
  {
   "cell_type": "code",
   "execution_count": 11,
   "id": "c388d4fb",
   "metadata": {
    "papermill": {
     "duration": 10.568669,
     "end_time": "2023-10-16T19:32:05.054909",
     "exception": false,
     "start_time": "2023-10-16T19:31:54.486240",
     "status": "completed"
    },
    "tags": []
   },
   "outputs": [],
   "source": [
    "# Import necessary libraries for data analysis and visualization\n",
    "import numpy as np\n",
    "import pandas as pd\n",
    "import seaborn as sns\n",
    "import matplotlib.pyplot as plt\n",
    "import tensorflow as tf\n",
    "from sklearn.preprocessing import MinMaxScaler\n",
    "from tensorflow import keras\n",
    "from tensorflow.keras import layers\n",
    "from sklearn.model_selection import train_test_split"
   ]
  },
  {
   "cell_type": "markdown",
   "id": "82878004",
   "metadata": {
    "papermill": {
     "duration": 0.008661,
     "end_time": "2023-10-16T19:32:05.071137",
     "exception": false,
     "start_time": "2023-10-16T19:32:05.062476",
     "status": "completed"
    },
    "tags": []
   },
   "source": [
    "## Read data"
   ]
  },
  {
   "cell_type": "code",
   "execution_count": 12,
   "id": "7875c4bc",
   "metadata": {
    "papermill": {
     "duration": 0.033927,
     "end_time": "2023-10-16T19:32:05.111433",
     "exception": false,
     "start_time": "2023-10-16T19:32:05.077506",
     "status": "completed"
    },
    "tags": []
   },
   "outputs": [],
   "source": [
    "# Read in data from a CSV file and store it in a pandas DataFrame\n",
    "data = pd.read_csv(\"sp500_stocks.csv\")"
   ]
  },
  {
   "cell_type": "code",
   "execution_count": 13,
   "id": "ab04f58a",
   "metadata": {
    "papermill": {
     "duration": 0.033699,
     "end_time": "2023-10-16T19:32:05.153554",
     "exception": false,
     "start_time": "2023-10-16T19:32:05.119855",
     "status": "completed"
    },
    "tags": []
   },
   "outputs": [
    {
     "data": {
      "text/html": [
       "<div>\n",
       "<style scoped>\n",
       "    .dataframe tbody tr th:only-of-type {\n",
       "        vertical-align: middle;\n",
       "    }\n",
       "\n",
       "    .dataframe tbody tr th {\n",
       "        vertical-align: top;\n",
       "    }\n",
       "\n",
       "    .dataframe thead th {\n",
       "        text-align: right;\n",
       "    }\n",
       "</style>\n",
       "<table border=\"1\" class=\"dataframe\">\n",
       "  <thead>\n",
       "    <tr style=\"text-align: right;\">\n",
       "      <th></th>\n",
       "      <th>Date</th>\n",
       "      <th>Symbol</th>\n",
       "      <th>Adj Close</th>\n",
       "      <th>Close</th>\n",
       "      <th>High</th>\n",
       "      <th>Low</th>\n",
       "      <th>Open</th>\n",
       "      <th>Volume</th>\n",
       "    </tr>\n",
       "  </thead>\n",
       "  <tbody>\n",
       "    <tr>\n",
       "      <th>0</th>\n",
       "      <td>2009-12-31</td>\n",
       "      <td>MMM</td>\n",
       "      <td>NaN</td>\n",
       "      <td>NaN</td>\n",
       "      <td>NaN</td>\n",
       "      <td>NaN</td>\n",
       "      <td>NaN</td>\n",
       "      <td>NaN</td>\n",
       "    </tr>\n",
       "    <tr>\n",
       "      <th>1</th>\n",
       "      <td>2010-01-04</td>\n",
       "      <td>MMM</td>\n",
       "      <td>59.318886</td>\n",
       "      <td>83.019997</td>\n",
       "      <td>83.449997</td>\n",
       "      <td>82.669998</td>\n",
       "      <td>83.089996</td>\n",
       "      <td>3043700.0</td>\n",
       "    </tr>\n",
       "    <tr>\n",
       "      <th>2</th>\n",
       "      <td>2010-01-05</td>\n",
       "      <td>MMM</td>\n",
       "      <td>58.947342</td>\n",
       "      <td>82.500000</td>\n",
       "      <td>83.230003</td>\n",
       "      <td>81.699997</td>\n",
       "      <td>82.800003</td>\n",
       "      <td>2847000.0</td>\n",
       "    </tr>\n",
       "    <tr>\n",
       "      <th>3</th>\n",
       "      <td>2010-01-06</td>\n",
       "      <td>MMM</td>\n",
       "      <td>59.783295</td>\n",
       "      <td>83.669998</td>\n",
       "      <td>84.599998</td>\n",
       "      <td>83.510002</td>\n",
       "      <td>83.879997</td>\n",
       "      <td>5268500.0</td>\n",
       "    </tr>\n",
       "    <tr>\n",
       "      <th>4</th>\n",
       "      <td>2010-01-07</td>\n",
       "      <td>MMM</td>\n",
       "      <td>59.826176</td>\n",
       "      <td>83.730003</td>\n",
       "      <td>83.760002</td>\n",
       "      <td>82.120003</td>\n",
       "      <td>83.320000</td>\n",
       "      <td>4470100.0</td>\n",
       "    </tr>\n",
       "    <tr>\n",
       "      <th>...</th>\n",
       "      <td>...</td>\n",
       "      <td>...</td>\n",
       "      <td>...</td>\n",
       "      <td>...</td>\n",
       "      <td>...</td>\n",
       "      <td>...</td>\n",
       "      <td>...</td>\n",
       "      <td>...</td>\n",
       "    </tr>\n",
       "    <tr>\n",
       "      <th>1593499</th>\n",
       "      <td>2022-07-20</td>\n",
       "      <td>ZTS</td>\n",
       "      <td>176.250000</td>\n",
       "      <td>176.250000</td>\n",
       "      <td>178.179993</td>\n",
       "      <td>175.649994</td>\n",
       "      <td>177.539993</td>\n",
       "      <td>1944300.0</td>\n",
       "    </tr>\n",
       "    <tr>\n",
       "      <th>1593500</th>\n",
       "      <td>2022-07-21</td>\n",
       "      <td>ZTS</td>\n",
       "      <td>180.600006</td>\n",
       "      <td>180.600006</td>\n",
       "      <td>180.750000</td>\n",
       "      <td>175.770004</td>\n",
       "      <td>175.770004</td>\n",
       "      <td>1878400.0</td>\n",
       "    </tr>\n",
       "    <tr>\n",
       "      <th>1593501</th>\n",
       "      <td>2022-07-22</td>\n",
       "      <td>ZTS</td>\n",
       "      <td>178.179993</td>\n",
       "      <td>178.179993</td>\n",
       "      <td>181.160004</td>\n",
       "      <td>177.259995</td>\n",
       "      <td>180.259995</td>\n",
       "      <td>1224500.0</td>\n",
       "    </tr>\n",
       "    <tr>\n",
       "      <th>1593502</th>\n",
       "      <td>2022-07-25</td>\n",
       "      <td>ZTS</td>\n",
       "      <td>175.179993</td>\n",
       "      <td>175.179993</td>\n",
       "      <td>178.699997</td>\n",
       "      <td>174.089996</td>\n",
       "      <td>178.009995</td>\n",
       "      <td>1291300.0</td>\n",
       "    </tr>\n",
       "    <tr>\n",
       "      <th>1593503</th>\n",
       "      <td>2022-07-26</td>\n",
       "      <td>ZTS</td>\n",
       "      <td>176.380005</td>\n",
       "      <td>176.380005</td>\n",
       "      <td>176.750000</td>\n",
       "      <td>173.960007</td>\n",
       "      <td>174.880005</td>\n",
       "      <td>1354900.0</td>\n",
       "    </tr>\n",
       "  </tbody>\n",
       "</table>\n",
       "<p>1593504 rows × 8 columns</p>\n",
       "</div>"
      ],
      "text/plain": [
       "               Date Symbol   Adj Close       Close        High         Low  \\\n",
       "0        2009-12-31    MMM         NaN         NaN         NaN         NaN   \n",
       "1        2010-01-04    MMM   59.318886   83.019997   83.449997   82.669998   \n",
       "2        2010-01-05    MMM   58.947342   82.500000   83.230003   81.699997   \n",
       "3        2010-01-06    MMM   59.783295   83.669998   84.599998   83.510002   \n",
       "4        2010-01-07    MMM   59.826176   83.730003   83.760002   82.120003   \n",
       "...             ...    ...         ...         ...         ...         ...   \n",
       "1593499  2022-07-20    ZTS  176.250000  176.250000  178.179993  175.649994   \n",
       "1593500  2022-07-21    ZTS  180.600006  180.600006  180.750000  175.770004   \n",
       "1593501  2022-07-22    ZTS  178.179993  178.179993  181.160004  177.259995   \n",
       "1593502  2022-07-25    ZTS  175.179993  175.179993  178.699997  174.089996   \n",
       "1593503  2022-07-26    ZTS  176.380005  176.380005  176.750000  173.960007   \n",
       "\n",
       "               Open     Volume  \n",
       "0               NaN        NaN  \n",
       "1         83.089996  3043700.0  \n",
       "2         82.800003  2847000.0  \n",
       "3         83.879997  5268500.0  \n",
       "4         83.320000  4470100.0  \n",
       "...             ...        ...  \n",
       "1593499  177.539993  1944300.0  \n",
       "1593500  175.770004  1878400.0  \n",
       "1593501  180.259995  1224500.0  \n",
       "1593502  178.009995  1291300.0  \n",
       "1593503  174.880005  1354900.0  \n",
       "\n",
       "[1593504 rows x 8 columns]"
      ]
     },
     "execution_count": 13,
     "metadata": {},
     "output_type": "execute_result"
    }
   ],
   "source": [
    "data"
   ]
  },
  {
   "cell_type": "code",
   "execution_count": 14,
   "id": "31e0b29e-c6ad-4ffe-8b18-aabc1271d6f5",
   "metadata": {},
   "outputs": [
    {
     "data": {
      "text/plain": [
       "Date             0\n",
       "Symbol           0\n",
       "Adj Close    71167\n",
       "Close        71167\n",
       "High         71167\n",
       "Low          71167\n",
       "Open         71167\n",
       "Volume       71167\n",
       "dtype: int64"
      ]
     },
     "execution_count": 14,
     "metadata": {},
     "output_type": "execute_result"
    }
   ],
   "source": [
    "data.isnull().sum()"
   ]
  },
  {
   "cell_type": "code",
   "execution_count": 15,
   "id": "a5b3c021-853c-4521-95e4-01b62e887758",
   "metadata": {},
   "outputs": [
    {
     "name": "stdout",
     "output_type": "stream",
     "text": [
      "Date         0\n",
      "Symbol       0\n",
      "Adj Close    0\n",
      "Close        0\n",
      "High         0\n",
      "Low          0\n",
      "Open         0\n",
      "Volume       0\n",
      "dtype: int64\n"
     ]
    }
   ],
   "source": [
    "import pandas as pd\n",
    "\n",
    "# Assuming your DataFrame is named 'data'\n",
    "\n",
    "# Specify the columns with null values to check\n",
    "columns_to_check = ['Adj Close', 'Close', 'High', 'Low', 'Open', 'Volume']\n",
    "\n",
    "# Fill missing values in the specified columns with the mean\n",
    "data.fillna(data[columns_to_check].mean(), inplace=True)\n",
    "\n",
    "# Print the number of null values in each column after filling\n",
    "print(data.isnull().sum())"
   ]
  },
  {
   "cell_type": "code",
   "execution_count": 16,
   "id": "121801e1-a94b-44f1-a37e-63cb5a9bc245",
   "metadata": {},
   "outputs": [
    {
     "data": {
      "text/plain": [
       "Date         0\n",
       "Symbol       0\n",
       "Adj Close    0\n",
       "Close        0\n",
       "High         0\n",
       "Low          0\n",
       "Open         0\n",
       "Volume       0\n",
       "dtype: int64"
      ]
     },
     "execution_count": 16,
     "metadata": {},
     "output_type": "execute_result"
    }
   ],
   "source": [
    "data.isnull().sum()"
   ]
  },
  {
   "cell_type": "code",
   "execution_count": 17,
   "id": "90022dc8",
   "metadata": {
    "papermill": {
     "duration": 0.019699,
     "end_time": "2023-10-16T19:32:05.180644",
     "exception": false,
     "start_time": "2023-10-16T19:32:05.160945",
     "status": "completed"
    },
    "tags": []
   },
   "outputs": [],
   "source": [
    "data['Date'] = pd.to_datetime(data['Date'])"
   ]
  },
  {
   "cell_type": "code",
   "execution_count": 18,
   "id": "bd0e3dd7",
   "metadata": {
    "papermill": {
     "duration": 0.020969,
     "end_time": "2023-10-16T19:32:05.208615",
     "exception": false,
     "start_time": "2023-10-16T19:32:05.187646",
     "status": "completed"
    },
    "tags": []
   },
   "outputs": [],
   "source": [
    "# Extract date components\n",
    "data['Year'] = data['Date'].dt.year\n",
    "data['Month'] = data['Date'].dt.month\n",
    "data['Day'] = data['Date'].dt.day\n",
    "data['DayOfWeek'] = data['Date'].dt.dayofweek"
   ]
  },
  {
   "cell_type": "code",
   "execution_count": 19,
   "id": "b3ae7965",
   "metadata": {
    "papermill": {
     "duration": 0.015581,
     "end_time": "2023-10-16T19:32:05.230539",
     "exception": false,
     "start_time": "2023-10-16T19:32:05.214958",
     "status": "completed"
    },
    "tags": []
   },
   "outputs": [
    {
     "data": {
      "text/plain": [
       "0          2009\n",
       "1          2010\n",
       "2          2010\n",
       "3          2010\n",
       "4          2010\n",
       "           ... \n",
       "1593499    2022\n",
       "1593500    2022\n",
       "1593501    2022\n",
       "1593502    2022\n",
       "1593503    2022\n",
       "Name: Year, Length: 1593504, dtype: int32"
      ]
     },
     "execution_count": 19,
     "metadata": {},
     "output_type": "execute_result"
    }
   ],
   "source": [
    "data['Year']"
   ]
  },
  {
   "cell_type": "code",
   "execution_count": 20,
   "id": "216a2d67",
   "metadata": {
    "papermill": {
     "duration": 0.024957,
     "end_time": "2023-10-16T19:32:05.262013",
     "exception": false,
     "start_time": "2023-10-16T19:32:05.237056",
     "status": "completed"
    },
    "tags": []
   },
   "outputs": [
    {
     "data": {
      "text/html": [
       "<div>\n",
       "<style scoped>\n",
       "    .dataframe tbody tr th:only-of-type {\n",
       "        vertical-align: middle;\n",
       "    }\n",
       "\n",
       "    .dataframe tbody tr th {\n",
       "        vertical-align: top;\n",
       "    }\n",
       "\n",
       "    .dataframe thead th {\n",
       "        text-align: right;\n",
       "    }\n",
       "</style>\n",
       "<table border=\"1\" class=\"dataframe\">\n",
       "  <thead>\n",
       "    <tr style=\"text-align: right;\">\n",
       "      <th></th>\n",
       "      <th>Date</th>\n",
       "      <th>Symbol</th>\n",
       "      <th>Adj Close</th>\n",
       "      <th>Close</th>\n",
       "      <th>High</th>\n",
       "      <th>Low</th>\n",
       "      <th>Open</th>\n",
       "      <th>Volume</th>\n",
       "      <th>Year</th>\n",
       "      <th>Month</th>\n",
       "      <th>Day</th>\n",
       "      <th>DayOfWeek</th>\n",
       "    </tr>\n",
       "  </thead>\n",
       "  <tbody>\n",
       "    <tr>\n",
       "      <th>0</th>\n",
       "      <td>2009-12-31</td>\n",
       "      <td>MMM</td>\n",
       "      <td>88.157827</td>\n",
       "      <td>94.064175</td>\n",
       "      <td>95.102574</td>\n",
       "      <td>92.973883</td>\n",
       "      <td>94.052471</td>\n",
       "      <td>5.819381e+06</td>\n",
       "      <td>2009</td>\n",
       "      <td>12</td>\n",
       "      <td>31</td>\n",
       "      <td>3</td>\n",
       "    </tr>\n",
       "    <tr>\n",
       "      <th>1</th>\n",
       "      <td>2010-01-04</td>\n",
       "      <td>MMM</td>\n",
       "      <td>59.318886</td>\n",
       "      <td>83.019997</td>\n",
       "      <td>83.449997</td>\n",
       "      <td>82.669998</td>\n",
       "      <td>83.089996</td>\n",
       "      <td>3.043700e+06</td>\n",
       "      <td>2010</td>\n",
       "      <td>1</td>\n",
       "      <td>4</td>\n",
       "      <td>0</td>\n",
       "    </tr>\n",
       "    <tr>\n",
       "      <th>2</th>\n",
       "      <td>2010-01-05</td>\n",
       "      <td>MMM</td>\n",
       "      <td>58.947342</td>\n",
       "      <td>82.500000</td>\n",
       "      <td>83.230003</td>\n",
       "      <td>81.699997</td>\n",
       "      <td>82.800003</td>\n",
       "      <td>2.847000e+06</td>\n",
       "      <td>2010</td>\n",
       "      <td>1</td>\n",
       "      <td>5</td>\n",
       "      <td>1</td>\n",
       "    </tr>\n",
       "    <tr>\n",
       "      <th>3</th>\n",
       "      <td>2010-01-06</td>\n",
       "      <td>MMM</td>\n",
       "      <td>59.783295</td>\n",
       "      <td>83.669998</td>\n",
       "      <td>84.599998</td>\n",
       "      <td>83.510002</td>\n",
       "      <td>83.879997</td>\n",
       "      <td>5.268500e+06</td>\n",
       "      <td>2010</td>\n",
       "      <td>1</td>\n",
       "      <td>6</td>\n",
       "      <td>2</td>\n",
       "    </tr>\n",
       "    <tr>\n",
       "      <th>4</th>\n",
       "      <td>2010-01-07</td>\n",
       "      <td>MMM</td>\n",
       "      <td>59.826176</td>\n",
       "      <td>83.730003</td>\n",
       "      <td>83.760002</td>\n",
       "      <td>82.120003</td>\n",
       "      <td>83.320000</td>\n",
       "      <td>4.470100e+06</td>\n",
       "      <td>2010</td>\n",
       "      <td>1</td>\n",
       "      <td>7</td>\n",
       "      <td>3</td>\n",
       "    </tr>\n",
       "    <tr>\n",
       "      <th>...</th>\n",
       "      <td>...</td>\n",
       "      <td>...</td>\n",
       "      <td>...</td>\n",
       "      <td>...</td>\n",
       "      <td>...</td>\n",
       "      <td>...</td>\n",
       "      <td>...</td>\n",
       "      <td>...</td>\n",
       "      <td>...</td>\n",
       "      <td>...</td>\n",
       "      <td>...</td>\n",
       "      <td>...</td>\n",
       "    </tr>\n",
       "    <tr>\n",
       "      <th>1593499</th>\n",
       "      <td>2022-07-20</td>\n",
       "      <td>ZTS</td>\n",
       "      <td>176.250000</td>\n",
       "      <td>176.250000</td>\n",
       "      <td>178.179993</td>\n",
       "      <td>175.649994</td>\n",
       "      <td>177.539993</td>\n",
       "      <td>1.944300e+06</td>\n",
       "      <td>2022</td>\n",
       "      <td>7</td>\n",
       "      <td>20</td>\n",
       "      <td>2</td>\n",
       "    </tr>\n",
       "    <tr>\n",
       "      <th>1593500</th>\n",
       "      <td>2022-07-21</td>\n",
       "      <td>ZTS</td>\n",
       "      <td>180.600006</td>\n",
       "      <td>180.600006</td>\n",
       "      <td>180.750000</td>\n",
       "      <td>175.770004</td>\n",
       "      <td>175.770004</td>\n",
       "      <td>1.878400e+06</td>\n",
       "      <td>2022</td>\n",
       "      <td>7</td>\n",
       "      <td>21</td>\n",
       "      <td>3</td>\n",
       "    </tr>\n",
       "    <tr>\n",
       "      <th>1593501</th>\n",
       "      <td>2022-07-22</td>\n",
       "      <td>ZTS</td>\n",
       "      <td>178.179993</td>\n",
       "      <td>178.179993</td>\n",
       "      <td>181.160004</td>\n",
       "      <td>177.259995</td>\n",
       "      <td>180.259995</td>\n",
       "      <td>1.224500e+06</td>\n",
       "      <td>2022</td>\n",
       "      <td>7</td>\n",
       "      <td>22</td>\n",
       "      <td>4</td>\n",
       "    </tr>\n",
       "    <tr>\n",
       "      <th>1593502</th>\n",
       "      <td>2022-07-25</td>\n",
       "      <td>ZTS</td>\n",
       "      <td>175.179993</td>\n",
       "      <td>175.179993</td>\n",
       "      <td>178.699997</td>\n",
       "      <td>174.089996</td>\n",
       "      <td>178.009995</td>\n",
       "      <td>1.291300e+06</td>\n",
       "      <td>2022</td>\n",
       "      <td>7</td>\n",
       "      <td>25</td>\n",
       "      <td>0</td>\n",
       "    </tr>\n",
       "    <tr>\n",
       "      <th>1593503</th>\n",
       "      <td>2022-07-26</td>\n",
       "      <td>ZTS</td>\n",
       "      <td>176.380005</td>\n",
       "      <td>176.380005</td>\n",
       "      <td>176.750000</td>\n",
       "      <td>173.960007</td>\n",
       "      <td>174.880005</td>\n",
       "      <td>1.354900e+06</td>\n",
       "      <td>2022</td>\n",
       "      <td>7</td>\n",
       "      <td>26</td>\n",
       "      <td>1</td>\n",
       "    </tr>\n",
       "  </tbody>\n",
       "</table>\n",
       "<p>1593504 rows × 12 columns</p>\n",
       "</div>"
      ],
      "text/plain": [
       "              Date Symbol   Adj Close       Close        High         Low  \\\n",
       "0       2009-12-31    MMM   88.157827   94.064175   95.102574   92.973883   \n",
       "1       2010-01-04    MMM   59.318886   83.019997   83.449997   82.669998   \n",
       "2       2010-01-05    MMM   58.947342   82.500000   83.230003   81.699997   \n",
       "3       2010-01-06    MMM   59.783295   83.669998   84.599998   83.510002   \n",
       "4       2010-01-07    MMM   59.826176   83.730003   83.760002   82.120003   \n",
       "...            ...    ...         ...         ...         ...         ...   \n",
       "1593499 2022-07-20    ZTS  176.250000  176.250000  178.179993  175.649994   \n",
       "1593500 2022-07-21    ZTS  180.600006  180.600006  180.750000  175.770004   \n",
       "1593501 2022-07-22    ZTS  178.179993  178.179993  181.160004  177.259995   \n",
       "1593502 2022-07-25    ZTS  175.179993  175.179993  178.699997  174.089996   \n",
       "1593503 2022-07-26    ZTS  176.380005  176.380005  176.750000  173.960007   \n",
       "\n",
       "               Open        Volume  Year  Month  Day  DayOfWeek  \n",
       "0         94.052471  5.819381e+06  2009     12   31          3  \n",
       "1         83.089996  3.043700e+06  2010      1    4          0  \n",
       "2         82.800003  2.847000e+06  2010      1    5          1  \n",
       "3         83.879997  5.268500e+06  2010      1    6          2  \n",
       "4         83.320000  4.470100e+06  2010      1    7          3  \n",
       "...             ...           ...   ...    ...  ...        ...  \n",
       "1593499  177.539993  1.944300e+06  2022      7   20          2  \n",
       "1593500  175.770004  1.878400e+06  2022      7   21          3  \n",
       "1593501  180.259995  1.224500e+06  2022      7   22          4  \n",
       "1593502  178.009995  1.291300e+06  2022      7   25          0  \n",
       "1593503  174.880005  1.354900e+06  2022      7   26          1  \n",
       "\n",
       "[1593504 rows x 12 columns]"
      ]
     },
     "execution_count": 20,
     "metadata": {},
     "output_type": "execute_result"
    }
   ],
   "source": [
    "data"
   ]
  },
  {
   "cell_type": "code",
   "execution_count": 21,
   "id": "08c29753",
   "metadata": {
    "papermill": {
     "duration": 0.015088,
     "end_time": "2023-10-16T19:32:05.284871",
     "exception": false,
     "start_time": "2023-10-16T19:32:05.269783",
     "status": "completed"
    },
    "tags": []
   },
   "outputs": [
    {
     "data": {
      "text/plain": [
       "Index(['Date', 'Symbol', 'Adj Close', 'Close', 'High', 'Low', 'Open', 'Volume',\n",
       "       'Year', 'Month', 'Day', 'DayOfWeek'],\n",
       "      dtype='object')"
      ]
     },
     "execution_count": 21,
     "metadata": {},
     "output_type": "execute_result"
    }
   ],
   "source": [
    "# Retrieve the column names of the pandas DataFrame\n",
    "data.columns"
   ]
  },
  {
   "cell_type": "code",
   "execution_count": 22,
   "id": "86663f47",
   "metadata": {
    "papermill": {
     "duration": 0.024805,
     "end_time": "2023-10-16T19:32:05.316973",
     "exception": false,
     "start_time": "2023-10-16T19:32:05.292168",
     "status": "completed"
    },
    "tags": []
   },
   "outputs": [
    {
     "data": {
      "text/html": [
       "<div>\n",
       "<style scoped>\n",
       "    .dataframe tbody tr th:only-of-type {\n",
       "        vertical-align: middle;\n",
       "    }\n",
       "\n",
       "    .dataframe tbody tr th {\n",
       "        vertical-align: top;\n",
       "    }\n",
       "\n",
       "    .dataframe thead th {\n",
       "        text-align: right;\n",
       "    }\n",
       "</style>\n",
       "<table border=\"1\" class=\"dataframe\">\n",
       "  <thead>\n",
       "    <tr style=\"text-align: right;\">\n",
       "      <th></th>\n",
       "      <th>Date</th>\n",
       "      <th>Symbol</th>\n",
       "      <th>Adj Close</th>\n",
       "      <th>Close</th>\n",
       "      <th>High</th>\n",
       "      <th>Low</th>\n",
       "      <th>Open</th>\n",
       "      <th>Volume</th>\n",
       "      <th>Year</th>\n",
       "      <th>Month</th>\n",
       "      <th>Day</th>\n",
       "      <th>DayOfWeek</th>\n",
       "    </tr>\n",
       "  </thead>\n",
       "  <tbody>\n",
       "    <tr>\n",
       "      <th>0</th>\n",
       "      <td>2009-12-31</td>\n",
       "      <td>MMM</td>\n",
       "      <td>88.157827</td>\n",
       "      <td>94.064175</td>\n",
       "      <td>95.102574</td>\n",
       "      <td>92.973883</td>\n",
       "      <td>94.052471</td>\n",
       "      <td>5.819381e+06</td>\n",
       "      <td>2009</td>\n",
       "      <td>12</td>\n",
       "      <td>31</td>\n",
       "      <td>3</td>\n",
       "    </tr>\n",
       "    <tr>\n",
       "      <th>1</th>\n",
       "      <td>2010-01-04</td>\n",
       "      <td>MMM</td>\n",
       "      <td>59.318886</td>\n",
       "      <td>83.019997</td>\n",
       "      <td>83.449997</td>\n",
       "      <td>82.669998</td>\n",
       "      <td>83.089996</td>\n",
       "      <td>3.043700e+06</td>\n",
       "      <td>2010</td>\n",
       "      <td>1</td>\n",
       "      <td>4</td>\n",
       "      <td>0</td>\n",
       "    </tr>\n",
       "    <tr>\n",
       "      <th>2</th>\n",
       "      <td>2010-01-05</td>\n",
       "      <td>MMM</td>\n",
       "      <td>58.947342</td>\n",
       "      <td>82.500000</td>\n",
       "      <td>83.230003</td>\n",
       "      <td>81.699997</td>\n",
       "      <td>82.800003</td>\n",
       "      <td>2.847000e+06</td>\n",
       "      <td>2010</td>\n",
       "      <td>1</td>\n",
       "      <td>5</td>\n",
       "      <td>1</td>\n",
       "    </tr>\n",
       "    <tr>\n",
       "      <th>3</th>\n",
       "      <td>2010-01-06</td>\n",
       "      <td>MMM</td>\n",
       "      <td>59.783295</td>\n",
       "      <td>83.669998</td>\n",
       "      <td>84.599998</td>\n",
       "      <td>83.510002</td>\n",
       "      <td>83.879997</td>\n",
       "      <td>5.268500e+06</td>\n",
       "      <td>2010</td>\n",
       "      <td>1</td>\n",
       "      <td>6</td>\n",
       "      <td>2</td>\n",
       "    </tr>\n",
       "    <tr>\n",
       "      <th>4</th>\n",
       "      <td>2010-01-07</td>\n",
       "      <td>MMM</td>\n",
       "      <td>59.826176</td>\n",
       "      <td>83.730003</td>\n",
       "      <td>83.760002</td>\n",
       "      <td>82.120003</td>\n",
       "      <td>83.320000</td>\n",
       "      <td>4.470100e+06</td>\n",
       "      <td>2010</td>\n",
       "      <td>1</td>\n",
       "      <td>7</td>\n",
       "      <td>3</td>\n",
       "    </tr>\n",
       "  </tbody>\n",
       "</table>\n",
       "</div>"
      ],
      "text/plain": [
       "        Date Symbol  Adj Close      Close       High        Low       Open  \\\n",
       "0 2009-12-31    MMM  88.157827  94.064175  95.102574  92.973883  94.052471   \n",
       "1 2010-01-04    MMM  59.318886  83.019997  83.449997  82.669998  83.089996   \n",
       "2 2010-01-05    MMM  58.947342  82.500000  83.230003  81.699997  82.800003   \n",
       "3 2010-01-06    MMM  59.783295  83.669998  84.599998  83.510002  83.879997   \n",
       "4 2010-01-07    MMM  59.826176  83.730003  83.760002  82.120003  83.320000   \n",
       "\n",
       "         Volume  Year  Month  Day  DayOfWeek  \n",
       "0  5.819381e+06  2009     12   31          3  \n",
       "1  3.043700e+06  2010      1    4          0  \n",
       "2  2.847000e+06  2010      1    5          1  \n",
       "3  5.268500e+06  2010      1    6          2  \n",
       "4  4.470100e+06  2010      1    7          3  "
      ]
     },
     "execution_count": 22,
     "metadata": {},
     "output_type": "execute_result"
    }
   ],
   "source": [
    "# Display the first 5 rows of the pandas DataFrame to preview the data\n",
    "data.head()"
   ]
  },
  {
   "cell_type": "code",
   "execution_count": 23,
   "id": "18a22fb8",
   "metadata": {
    "papermill": {
     "duration": 0.023718,
     "end_time": "2023-10-16T19:32:05.348965",
     "exception": false,
     "start_time": "2023-10-16T19:32:05.325247",
     "status": "completed"
    },
    "tags": []
   },
   "outputs": [
    {
     "data": {
      "text/html": [
       "<div>\n",
       "<style scoped>\n",
       "    .dataframe tbody tr th:only-of-type {\n",
       "        vertical-align: middle;\n",
       "    }\n",
       "\n",
       "    .dataframe tbody tr th {\n",
       "        vertical-align: top;\n",
       "    }\n",
       "\n",
       "    .dataframe thead th {\n",
       "        text-align: right;\n",
       "    }\n",
       "</style>\n",
       "<table border=\"1\" class=\"dataframe\">\n",
       "  <thead>\n",
       "    <tr style=\"text-align: right;\">\n",
       "      <th></th>\n",
       "      <th>Date</th>\n",
       "      <th>Symbol</th>\n",
       "      <th>Adj Close</th>\n",
       "      <th>Close</th>\n",
       "      <th>High</th>\n",
       "      <th>Low</th>\n",
       "      <th>Open</th>\n",
       "      <th>Volume</th>\n",
       "      <th>Year</th>\n",
       "      <th>Month</th>\n",
       "      <th>Day</th>\n",
       "      <th>DayOfWeek</th>\n",
       "    </tr>\n",
       "  </thead>\n",
       "  <tbody>\n",
       "    <tr>\n",
       "      <th>1593499</th>\n",
       "      <td>2022-07-20</td>\n",
       "      <td>ZTS</td>\n",
       "      <td>176.250000</td>\n",
       "      <td>176.250000</td>\n",
       "      <td>178.179993</td>\n",
       "      <td>175.649994</td>\n",
       "      <td>177.539993</td>\n",
       "      <td>1944300.0</td>\n",
       "      <td>2022</td>\n",
       "      <td>7</td>\n",
       "      <td>20</td>\n",
       "      <td>2</td>\n",
       "    </tr>\n",
       "    <tr>\n",
       "      <th>1593500</th>\n",
       "      <td>2022-07-21</td>\n",
       "      <td>ZTS</td>\n",
       "      <td>180.600006</td>\n",
       "      <td>180.600006</td>\n",
       "      <td>180.750000</td>\n",
       "      <td>175.770004</td>\n",
       "      <td>175.770004</td>\n",
       "      <td>1878400.0</td>\n",
       "      <td>2022</td>\n",
       "      <td>7</td>\n",
       "      <td>21</td>\n",
       "      <td>3</td>\n",
       "    </tr>\n",
       "    <tr>\n",
       "      <th>1593501</th>\n",
       "      <td>2022-07-22</td>\n",
       "      <td>ZTS</td>\n",
       "      <td>178.179993</td>\n",
       "      <td>178.179993</td>\n",
       "      <td>181.160004</td>\n",
       "      <td>177.259995</td>\n",
       "      <td>180.259995</td>\n",
       "      <td>1224500.0</td>\n",
       "      <td>2022</td>\n",
       "      <td>7</td>\n",
       "      <td>22</td>\n",
       "      <td>4</td>\n",
       "    </tr>\n",
       "    <tr>\n",
       "      <th>1593502</th>\n",
       "      <td>2022-07-25</td>\n",
       "      <td>ZTS</td>\n",
       "      <td>175.179993</td>\n",
       "      <td>175.179993</td>\n",
       "      <td>178.699997</td>\n",
       "      <td>174.089996</td>\n",
       "      <td>178.009995</td>\n",
       "      <td>1291300.0</td>\n",
       "      <td>2022</td>\n",
       "      <td>7</td>\n",
       "      <td>25</td>\n",
       "      <td>0</td>\n",
       "    </tr>\n",
       "    <tr>\n",
       "      <th>1593503</th>\n",
       "      <td>2022-07-26</td>\n",
       "      <td>ZTS</td>\n",
       "      <td>176.380005</td>\n",
       "      <td>176.380005</td>\n",
       "      <td>176.750000</td>\n",
       "      <td>173.960007</td>\n",
       "      <td>174.880005</td>\n",
       "      <td>1354900.0</td>\n",
       "      <td>2022</td>\n",
       "      <td>7</td>\n",
       "      <td>26</td>\n",
       "      <td>1</td>\n",
       "    </tr>\n",
       "  </tbody>\n",
       "</table>\n",
       "</div>"
      ],
      "text/plain": [
       "              Date Symbol   Adj Close       Close        High         Low  \\\n",
       "1593499 2022-07-20    ZTS  176.250000  176.250000  178.179993  175.649994   \n",
       "1593500 2022-07-21    ZTS  180.600006  180.600006  180.750000  175.770004   \n",
       "1593501 2022-07-22    ZTS  178.179993  178.179993  181.160004  177.259995   \n",
       "1593502 2022-07-25    ZTS  175.179993  175.179993  178.699997  174.089996   \n",
       "1593503 2022-07-26    ZTS  176.380005  176.380005  176.750000  173.960007   \n",
       "\n",
       "               Open     Volume  Year  Month  Day  DayOfWeek  \n",
       "1593499  177.539993  1944300.0  2022      7   20          2  \n",
       "1593500  175.770004  1878400.0  2022      7   21          3  \n",
       "1593501  180.259995  1224500.0  2022      7   22          4  \n",
       "1593502  178.009995  1291300.0  2022      7   25          0  \n",
       "1593503  174.880005  1354900.0  2022      7   26          1  "
      ]
     },
     "execution_count": 23,
     "metadata": {},
     "output_type": "execute_result"
    }
   ],
   "source": [
    "# Display the last 5 rows of the pandas DataFrame to preview the data\n",
    "data.tail()"
   ]
  },
  {
   "cell_type": "code",
   "execution_count": 24,
   "id": "ef90178e",
   "metadata": {
    "papermill": {
     "duration": 0.034739,
     "end_time": "2023-10-16T19:32:05.391505",
     "exception": false,
     "start_time": "2023-10-16T19:32:05.356766",
     "status": "completed"
    },
    "tags": []
   },
   "outputs": [
    {
     "name": "stdout",
     "output_type": "stream",
     "text": [
      "<class 'pandas.core.frame.DataFrame'>\n",
      "RangeIndex: 1593504 entries, 0 to 1593503\n",
      "Data columns (total 12 columns):\n",
      " #   Column     Non-Null Count    Dtype         \n",
      "---  ------     --------------    -----         \n",
      " 0   Date       1593504 non-null  datetime64[ns]\n",
      " 1   Symbol     1593504 non-null  object        \n",
      " 2   Adj Close  1593504 non-null  float64       \n",
      " 3   Close      1593504 non-null  float64       \n",
      " 4   High       1593504 non-null  float64       \n",
      " 5   Low        1593504 non-null  float64       \n",
      " 6   Open       1593504 non-null  float64       \n",
      " 7   Volume     1593504 non-null  float64       \n",
      " 8   Year       1593504 non-null  int32         \n",
      " 9   Month      1593504 non-null  int32         \n",
      " 10  Day        1593504 non-null  int32         \n",
      " 11  DayOfWeek  1593504 non-null  int32         \n",
      "dtypes: datetime64[ns](1), float64(6), int32(4), object(1)\n",
      "memory usage: 121.6+ MB\n"
     ]
    }
   ],
   "source": [
    "# some information about data\n",
    "data.info()"
   ]
  },
  {
   "cell_type": "code",
   "execution_count": 25,
   "id": "fc6c9107",
   "metadata": {
    "papermill": {
     "duration": 0.210302,
     "end_time": "2023-10-16T19:32:05.610098",
     "exception": false,
     "start_time": "2023-10-16T19:32:05.399796",
     "status": "completed"
    },
    "tags": []
   },
   "outputs": [
    {
     "data": {
      "text/html": [
       "<div>\n",
       "<style scoped>\n",
       "    .dataframe tbody tr th:only-of-type {\n",
       "        vertical-align: middle;\n",
       "    }\n",
       "\n",
       "    .dataframe tbody tr th {\n",
       "        vertical-align: top;\n",
       "    }\n",
       "\n",
       "    .dataframe thead th {\n",
       "        text-align: right;\n",
       "    }\n",
       "</style>\n",
       "<table border=\"1\" class=\"dataframe\">\n",
       "  <thead>\n",
       "    <tr style=\"text-align: right;\">\n",
       "      <th></th>\n",
       "      <th>Date</th>\n",
       "      <th>Adj Close</th>\n",
       "      <th>Close</th>\n",
       "      <th>High</th>\n",
       "      <th>Low</th>\n",
       "      <th>Open</th>\n",
       "      <th>Volume</th>\n",
       "      <th>Year</th>\n",
       "      <th>Month</th>\n",
       "      <th>Day</th>\n",
       "      <th>DayOfWeek</th>\n",
       "    </tr>\n",
       "  </thead>\n",
       "  <tbody>\n",
       "    <tr>\n",
       "      <th>count</th>\n",
       "      <td>1593504</td>\n",
       "      <td>1.593504e+06</td>\n",
       "      <td>1.593504e+06</td>\n",
       "      <td>1.593504e+06</td>\n",
       "      <td>1.593504e+06</td>\n",
       "      <td>1.593504e+06</td>\n",
       "      <td>1.593504e+06</td>\n",
       "      <td>1.593504e+06</td>\n",
       "      <td>1.593504e+06</td>\n",
       "      <td>1.593504e+06</td>\n",
       "      <td>1.593504e+06</td>\n",
       "    </tr>\n",
       "    <tr>\n",
       "      <th>mean</th>\n",
       "      <td>2016-04-13 05:05:54.545454592</td>\n",
       "      <td>8.815783e+01</td>\n",
       "      <td>9.406417e+01</td>\n",
       "      <td>9.510257e+01</td>\n",
       "      <td>9.297388e+01</td>\n",
       "      <td>9.405247e+01</td>\n",
       "      <td>5.819381e+06</td>\n",
       "      <td>2.015791e+03</td>\n",
       "      <td>6.430556e+00</td>\n",
       "      <td>1.570928e+01</td>\n",
       "      <td>2.020202e+00</td>\n",
       "    </tr>\n",
       "    <tr>\n",
       "      <th>min</th>\n",
       "      <td>2009-12-31 00:00:00</td>\n",
       "      <td>7.000000e-01</td>\n",
       "      <td>7.000000e-01</td>\n",
       "      <td>7.100000e-01</td>\n",
       "      <td>6.500000e-01</td>\n",
       "      <td>7.000000e-01</td>\n",
       "      <td>0.000000e+00</td>\n",
       "      <td>2.009000e+03</td>\n",
       "      <td>1.000000e+00</td>\n",
       "      <td>1.000000e+00</td>\n",
       "      <td>0.000000e+00</td>\n",
       "    </tr>\n",
       "    <tr>\n",
       "      <th>25%</th>\n",
       "      <td>2013-02-24 06:00:00</td>\n",
       "      <td>3.028878e+01</td>\n",
       "      <td>3.560000e+01</td>\n",
       "      <td>3.599000e+01</td>\n",
       "      <td>3.519000e+01</td>\n",
       "      <td>3.559000e+01</td>\n",
       "      <td>1.020000e+06</td>\n",
       "      <td>2.013000e+03</td>\n",
       "      <td>3.000000e+00</td>\n",
       "      <td>8.000000e+00</td>\n",
       "      <td>1.000000e+00</td>\n",
       "    </tr>\n",
       "    <tr>\n",
       "      <th>50%</th>\n",
       "      <td>2016-04-14 12:00:00</td>\n",
       "      <td>5.516085e+01</td>\n",
       "      <td>6.240000e+01</td>\n",
       "      <td>6.300000e+01</td>\n",
       "      <td>6.173000e+01</td>\n",
       "      <td>6.238000e+01</td>\n",
       "      <td>2.265600e+06</td>\n",
       "      <td>2.016000e+03</td>\n",
       "      <td>6.000000e+00</td>\n",
       "      <td>1.600000e+01</td>\n",
       "      <td>2.000000e+00</td>\n",
       "    </tr>\n",
       "    <tr>\n",
       "      <th>75%</th>\n",
       "      <td>2019-06-04 06:00:00</td>\n",
       "      <td>9.286115e+01</td>\n",
       "      <td>1.001100e+02</td>\n",
       "      <td>1.011200e+02</td>\n",
       "      <td>9.903000e+01</td>\n",
       "      <td>1.000700e+02</td>\n",
       "      <td>5.634400e+06</td>\n",
       "      <td>2.019000e+03</td>\n",
       "      <td>9.000000e+00</td>\n",
       "      <td>2.300000e+01</td>\n",
       "      <td>3.000000e+00</td>\n",
       "    </tr>\n",
       "    <tr>\n",
       "      <th>max</th>\n",
       "      <td>2022-07-26 00:00:00</td>\n",
       "      <td>5.959330e+03</td>\n",
       "      <td>5.959330e+03</td>\n",
       "      <td>5.982450e+03</td>\n",
       "      <td>5.884060e+03</td>\n",
       "      <td>5.977610e+03</td>\n",
       "      <td>1.880998e+09</td>\n",
       "      <td>2.022000e+03</td>\n",
       "      <td>1.200000e+01</td>\n",
       "      <td>3.100000e+01</td>\n",
       "      <td>4.000000e+00</td>\n",
       "    </tr>\n",
       "    <tr>\n",
       "      <th>std</th>\n",
       "      <td>NaN</td>\n",
       "      <td>1.615738e+02</td>\n",
       "      <td>1.613640e+02</td>\n",
       "      <td>1.634074e+02</td>\n",
       "      <td>1.592588e+02</td>\n",
       "      <td>1.613455e+02</td>\n",
       "      <td>1.956465e+07</td>\n",
       "      <td>3.631645e+00</td>\n",
       "      <td>3.418918e+00</td>\n",
       "      <td>8.745045e+00</td>\n",
       "      <td>1.399485e+00</td>\n",
       "    </tr>\n",
       "  </tbody>\n",
       "</table>\n",
       "</div>"
      ],
      "text/plain": [
       "                                Date     Adj Close         Close  \\\n",
       "count                        1593504  1.593504e+06  1.593504e+06   \n",
       "mean   2016-04-13 05:05:54.545454592  8.815783e+01  9.406417e+01   \n",
       "min              2009-12-31 00:00:00  7.000000e-01  7.000000e-01   \n",
       "25%              2013-02-24 06:00:00  3.028878e+01  3.560000e+01   \n",
       "50%              2016-04-14 12:00:00  5.516085e+01  6.240000e+01   \n",
       "75%              2019-06-04 06:00:00  9.286115e+01  1.001100e+02   \n",
       "max              2022-07-26 00:00:00  5.959330e+03  5.959330e+03   \n",
       "std                              NaN  1.615738e+02  1.613640e+02   \n",
       "\n",
       "               High           Low          Open        Volume          Year  \\\n",
       "count  1.593504e+06  1.593504e+06  1.593504e+06  1.593504e+06  1.593504e+06   \n",
       "mean   9.510257e+01  9.297388e+01  9.405247e+01  5.819381e+06  2.015791e+03   \n",
       "min    7.100000e-01  6.500000e-01  7.000000e-01  0.000000e+00  2.009000e+03   \n",
       "25%    3.599000e+01  3.519000e+01  3.559000e+01  1.020000e+06  2.013000e+03   \n",
       "50%    6.300000e+01  6.173000e+01  6.238000e+01  2.265600e+06  2.016000e+03   \n",
       "75%    1.011200e+02  9.903000e+01  1.000700e+02  5.634400e+06  2.019000e+03   \n",
       "max    5.982450e+03  5.884060e+03  5.977610e+03  1.880998e+09  2.022000e+03   \n",
       "std    1.634074e+02  1.592588e+02  1.613455e+02  1.956465e+07  3.631645e+00   \n",
       "\n",
       "              Month           Day     DayOfWeek  \n",
       "count  1.593504e+06  1.593504e+06  1.593504e+06  \n",
       "mean   6.430556e+00  1.570928e+01  2.020202e+00  \n",
       "min    1.000000e+00  1.000000e+00  0.000000e+00  \n",
       "25%    3.000000e+00  8.000000e+00  1.000000e+00  \n",
       "50%    6.000000e+00  1.600000e+01  2.000000e+00  \n",
       "75%    9.000000e+00  2.300000e+01  3.000000e+00  \n",
       "max    1.200000e+01  3.100000e+01  4.000000e+00  \n",
       "std    3.418918e+00  8.745045e+00  1.399485e+00  "
      ]
     },
     "execution_count": 25,
     "metadata": {},
     "output_type": "execute_result"
    }
   ],
   "source": [
    "# some statistical information about data\n",
    "data.describe()"
   ]
  },
  {
   "cell_type": "markdown",
   "id": "9578de43",
   "metadata": {
    "papermill": {
     "duration": 0.016504,
     "end_time": "2023-10-16T19:32:17.812536",
     "exception": false,
     "start_time": "2023-10-16T19:32:17.796032",
     "status": "completed"
    },
    "tags": []
   },
   "source": [
    "## LSTM Model"
   ]
  },
  {
   "cell_type": "code",
   "execution_count": 26,
   "id": "9d6bf852",
   "metadata": {
    "papermill": {
     "duration": 0.023608,
     "end_time": "2023-10-16T19:32:17.850860",
     "exception": false,
     "start_time": "2023-10-16T19:32:17.827252",
     "status": "completed"
    },
    "tags": []
   },
   "outputs": [],
   "source": [
    "# Choose the features you want to use for prediction\n",
    "features = data[['High', 'Low', 'Open', 'Volume', 'Year', 'Month', 'Day', 'DayOfWeek', 'Adj Close']]"
   ]
  },
  {
   "cell_type": "code",
   "execution_count": 27,
   "id": "cbd0da03",
   "metadata": {
    "papermill": {
     "duration": 0.036022,
     "end_time": "2023-10-16T19:32:17.902635",
     "exception": false,
     "start_time": "2023-10-16T19:32:17.866613",
     "status": "completed"
    },
    "tags": []
   },
   "outputs": [],
   "source": [
    "# Scale the features to the range [0, 1]\n",
    "scaler = MinMaxScaler()\n",
    "features = scaler.fit_transform(features)"
   ]
  },
  {
   "cell_type": "code",
   "execution_count": 28,
   "id": "2fb46dbe",
   "metadata": {
    "papermill": {
     "duration": 0.048647,
     "end_time": "2023-10-16T19:32:17.981226",
     "exception": false,
     "start_time": "2023-10-16T19:32:17.932579",
     "status": "completed"
    },
    "tags": []
   },
   "outputs": [],
   "source": [
    "# Define the target variable (what you want to predict)\n",
    "target = data['Close']"
   ]
  },
  {
   "cell_type": "code",
   "execution_count": 31,
   "id": "b73b9562",
   "metadata": {
    "papermill": {
     "duration": 0.022028,
     "end_time": "2023-10-16T19:32:18.019476",
     "exception": false,
     "start_time": "2023-10-16T19:32:17.997448",
     "status": "completed"
    },
    "tags": []
   },
   "outputs": [],
   "source": [
    "# Split the data into training and testing sets\n",
    "X_train, X_test, y_train, y_test = train_test_split(features, target, test_size=0.2, shuffle=False)"
   ]
  },
  {
   "cell_type": "code",
   "execution_count": 32,
   "id": "9088e9b3",
   "metadata": {
    "papermill": {
     "duration": 0.022553,
     "end_time": "2023-10-16T19:32:18.056285",
     "exception": false,
     "start_time": "2023-10-16T19:32:18.033732",
     "status": "completed"
    },
    "tags": []
   },
   "outputs": [],
   "source": [
    "# Reshape the data for the RNN model\n",
    "X_train = np.reshape(X_train, (X_train.shape[0], X_train.shape[1], 1))\n",
    "X_test = np.reshape(X_test, (X_test.shape[0], X_test.shape[1], 1))"
   ]
  },
  {
   "cell_type": "code",
   "execution_count": 33,
   "id": "415fcebe",
   "metadata": {
    "papermill": {
     "duration": 5.017547,
     "end_time": "2023-10-16T19:32:23.087927",
     "exception": false,
     "start_time": "2023-10-16T19:32:18.070380",
     "status": "completed"
    },
    "tags": []
   },
   "outputs": [
    {
     "name": "stderr",
     "output_type": "stream",
     "text": [
      "C:\\Users\\rishi\\AppData\\Local\\Programs\\Python\\Python312\\Lib\\site-packages\\keras\\src\\layers\\rnn\\rnn.py:204: UserWarning: Do not pass an `input_shape`/`input_dim` argument to a layer. When using Sequential models, prefer using an `Input(shape)` object as the first layer in the model instead.\n",
      "  super().__init__(**kwargs)\n"
     ]
    }
   ],
   "source": [
    "# Build the RNN model with dropout and early stopping\n",
    "model = keras.Sequential()\n",
    "model.add(layers.LSTM(50, activation='relu', return_sequences=True, input_shape=(X_train.shape[1], 1)))\n",
    "model.add(layers.Dropout(0.2))\n",
    "model.add(layers.LSTM(50, activation='relu'))\n",
    "model.add(layers.Dropout(0.2))\n",
    "model.add(layers.Dense(1))\n",
    "early_stopping = tf.keras.callbacks.EarlyStopping(monitor='val_loss', patience=5)\n",
    "model.compile(optimizer='adam', loss='mean_squared_error', metrics=['mae'])"
   ]
  },
  {
   "cell_type": "code",
   "execution_count": 34,
   "id": "cded739a",
   "metadata": {
    "papermill": {
     "duration": 802.983473,
     "end_time": "2023-10-16T19:45:46.134777",
     "exception": false,
     "start_time": "2023-10-16T19:32:23.151304",
     "status": "completed"
    },
    "tags": []
   },
   "outputs": [
    {
     "name": "stdout",
     "output_type": "stream",
     "text": [
      "Epoch 1/3\n",
      "\u001b[1m39838/39838\u001b[0m \u001b[32m━━━━━━━━━━━━━━━━━━━━\u001b[0m\u001b[37m\u001b[0m \u001b[1m221s\u001b[0m 5ms/step - loss: 5364.4463 - mae: 29.9526 - val_loss: 68.5522 - val_mae: 6.4495\n",
      "Epoch 2/3\n",
      "\u001b[1m39838/39838\u001b[0m \u001b[32m━━━━━━━━━━━━━━━━━━━━\u001b[0m\u001b[37m\u001b[0m \u001b[1m195s\u001b[0m 5ms/step - loss: 1163.8792 - mae: 15.1115 - val_loss: 95.0143 - val_mae: 8.6504\n",
      "Epoch 3/3\n",
      "\u001b[1m39838/39838\u001b[0m \u001b[32m━━━━━━━━━━━━━━━━━━━━\u001b[0m\u001b[37m\u001b[0m \u001b[1m208s\u001b[0m 5ms/step - loss: 1177.8491 - mae: 14.2526 - val_loss: 27.7483 - val_mae: 3.4498\n"
     ]
    }
   ],
   "source": [
    "# Train the model with a larger batch size\n",
    "history = model.fit(X_train, y_train, epochs=3, batch_size=32, verbose=1, validation_data=(X_test, y_test), callbacks=[early_stopping])"
   ]
  },
  {
   "cell_type": "code",
   "execution_count": 35,
   "id": "889e92e9",
   "metadata": {
    "papermill": {
     "duration": 0.38394,
     "end_time": "2023-10-16T19:45:46.542882",
     "exception": false,
     "start_time": "2023-10-16T19:45:46.158942",
     "status": "completed"
    },
    "tags": []
   },
   "outputs": [
    {
     "name": "stdout",
     "output_type": "stream",
     "text": [
      "\u001b[1m9960/9960\u001b[0m \u001b[32m━━━━━━━━━━━━━━━━━━━━\u001b[0m\u001b[37m\u001b[0m \u001b[1m17s\u001b[0m 2ms/step\n"
     ]
    }
   ],
   "source": [
    "# Make predictions\n",
    "y_pred = model.predict(X_test)"
   ]
  },
  {
   "cell_type": "code",
   "execution_count": 57,
   "id": "11930cd9-5b66-48e4-8406-249d6a5b675c",
   "metadata": {},
   "outputs": [
    {
     "data": {
      "image/png": "[encoded data removed]",
      "text/plain": [
       "<Figure size 1000x600 with 1 Axes>"
      ]
     },
     "metadata": {},
     "output_type": "display_data"
    }
   ],
   "source": [
    "import matplotlib.pyplot as plt\n",
    "\n",
    "epochs = [1, 2, 3]\n",
    "loss_values = [5364.4463, 1069.6312, 1177.8491]\n",
    "val_loss_values = [68.5522, 95.0143, 27.7483]\n",
    "\n",
    "# Plot Training Loss\n",
    "plt.figure(figsize=(10, 6))\n",
    "plt.plot(epochs, loss_values, label='Training Loss')\n",
    "plt.xlabel('Epoch')\n",
    "plt.ylabel('Loss')\n",
    "plt.title('Training Loss')\n",
    "plt.legend()\n",
    "plt.grid(True)\n",
    "plt.show()"
   ]
  },
  {
   "cell_type": "code",
   "execution_count": 55,
   "id": "a6bd4fc6-8847-407c-a6e7-182a040a01c7",
   "metadata": {},
   "outputs": [
    {
     "data": {
      "image/png": "[encoded data removed]",
      "text/plain": [
       "<Figure size 1000x600 with 1 Axes>"
      ]
     },
     "metadata": {},
     "output_type": "display_data"
    }
   ],
   "source": [
    "#For Validation loss\n",
    "plt.figure(figsize=(10, 6))\n",
    "plt.plot(epochs, val_loss_values, label='Validation Loss', color='orange')  # Set color to orange\n",
    "plt.xlabel('Epoch')\n",
    "plt.ylabel('Loss')\n",
    "plt.title('Validation Loss')\n",
    "plt.legend()\n",
    "plt.grid(True)\n",
    "plt.show()"
   ]
  },
  {
   "cell_type": "code",
   "execution_count": 58,
   "id": "e273b762-4433-481c-9e38-43a67e9bb280",
   "metadata": {},
   "outputs": [
    {
     "data": {
      "image/png": "[encoded data removed]",
      "text/plain": [
       "<Figure size 1000x600 with 1 Axes>"
      ]
     },
     "metadata": {},
     "output_type": "display_data"
    }
   ],
   "source": [
    "import matplotlib.pyplot as plt\n",
    "\n",
    "epochs = [1, 2, 3]\n",
    "mae_values = [29.9526, 15.1115, 14.2526]\n",
    "\n",
    "#Plot for training MAE\n",
    "plt.figure(figsize=(10, 6))\n",
    "plt.plot(epochs, mae_values, label='Training MAE')\n",
    "plt.xlabel('Epoch')\n",
    "plt.ylabel('MAE')\n",
    "plt.title('Training MAE')\n",
    "plt.legend()\n",
    "plt.grid(True)\n",
    "plt.show()"
   ]
  },
  {
   "cell_type": "code",
   "execution_count": 56,
   "id": "a6ccca52-8528-4a8d-b654-9dd805356c9b",
   "metadata": {},
   "outputs": [
    {
     "data": {
      "image/png": "[encoded data removed]",
      "text/plain": [
       "<Figure size 1000x600 with 1 Axes>"
      ]
     },
     "metadata": {},
     "output_type": "display_data"
    }
   ],
   "source": [
    "# Plot for validation MAE\n",
    "plt.figure(figsize=(10, 6))\n",
    "plt.plot(epochs, val_mae_values, label='Validation MAE', color='orange')  \n",
    "plt.xlabel('Epoch')\n",
    "plt.ylabel('MAE')\n",
    "plt.title('Validation MAE')\n",
    "plt.legend()\n",
    "plt.grid(True)\n",
    "plt.show()"
   ]
  },
  {
   "cell_type": "code",
   "execution_count": 36,
   "id": "27c5041e",
   "metadata": {
    "papermill": {
     "duration": 0.032443,
     "end_time": "2023-10-16T19:45:46.598153",
     "exception": false,
     "start_time": "2023-10-16T19:45:46.565710",
     "status": "completed"
    },
    "tags": []
   },
   "outputs": [
    {
     "name": "stdout",
     "output_type": "stream",
     "text": [
      "Mean Squared Error (MSE): 27.748307644514796\n"
     ]
    }
   ],
   "source": [
    "from sklearn.metrics import mean_squared_error\n",
    "# Calculate Mean Squared Error (MSE) for evaluation\n",
    "mse = mean_squared_error(y_test, y_pred)\n",
    "print(\"Mean Squared Error (MSE):\", mse)"
   ]
  },
  {
   "cell_type": "code",
   "execution_count": 37,
   "id": "ccd597a7",
   "metadata": {
    "papermill": {
     "duration": 0.029611,
     "end_time": "2023-10-16T19:45:46.650938",
     "exception": false,
     "start_time": "2023-10-16T19:45:46.621327",
     "status": "completed"
    },
    "tags": []
   },
   "outputs": [
    {
     "name": "stdout",
     "output_type": "stream",
     "text": [
      "R-squared: 0.9964064496284903\n"
     ]
    }
   ],
   "source": [
    "from sklearn.metrics import r2_score\n",
    "r2 = r2_score(y_test, y_pred)\n",
    "print(\"R-squared:\", r2)"
   ]
  },
  {
   "cell_type": "code",
   "execution_count": 38,
   "id": "47ae5deb",
   "metadata": {
    "papermill": {
     "duration": 0.329979,
     "end_time": "2023-10-16T19:45:47.002451",
     "exception": false,
     "start_time": "2023-10-16T19:45:46.672472",
     "status": "completed"
    },
    "tags": []
   },
   "outputs": [
    {
     "data": {
      "image/png": "[encoded data removed]",
      "text/plain": [
       "<Figure size 1000x600 with 1 Axes>"
      ]
     },
     "metadata": {},
     "output_type": "display_data"
    }
   ],
   "source": [
    "# Assuming you have actual stock prices in y_test and predicted prices in y_pred\n",
    "y_test = np.array(y_test)  \n",
    "y_pred = np.array(y_pred)  \n",
    "\n",
    "# Calculate the Mean Squared Error (MSE)\n",
    "mse = mean_squared_error(y_test, y_pred)\n",
    "\n",
    "# Calculate R-squared (R2)\n",
    "r2 = r2_score(y_test, y_pred)\n",
    "\n",
    "# Create a line chart to visualize the actual vs. predicted prices\n",
    "plt.figure(figsize=(10, 6))\n",
    "plt.plot(y_test, label=\"Actual Prices\", color=\"#053B50\")\n",
    "plt.plot(y_pred, label=\"Predicted Prices\", color=\"#C70039\")\n",
    "plt.title(\"Actual vs. Predicted Stock Prices\")\n",
    "plt.xlabel(\"Time\")\n",
    "plt.ylabel(\"Stock Price\")\n",
    "plt.legend()\n",
    "plt.grid(True)\n",
    "\n",
    "# Display the MSE and R2 as text in the plot\n",
    "plt.text(100, max(y_test) * 0.9, f\"MSE: {mse:.2f}\", fontsize=12, color=\"black\")\n",
    "plt.text(100, max(y_test) * 0.85, f\"R-squared: {r2:.2f}\", fontsize=12, color=\"black\")\n",
    "\n",
    "# Show the plot\n",
    "plt.show()"
   ]
  },
  {
   "cell_type": "code",
   "execution_count": null,
   "id": "d4781bdb-541e-455f-abea-f9177e47ecdc",
   "metadata": {},
   "outputs": [],
   "source": []
  }
 ],
 "metadata": {
  "kernelspec": {
   "display_name": "Python 3 (ipykernel)",
   "language": "python",
   "name": "python3"
  },
  "language_info": {
   "codemirror_mode": {
    "name": "ipython",
    "version": 3
   },
   "file_extension": ".py",
   "mimetype": "text/x-python",
   "name": "python",
   "nbconvert_exporter": "python",
   "pygments_lexer": "ipython3",
   "version": "3.12.4"
  },
  "papermill": {
   "default_parameters": {},
   "duration": 838.969426,
   "end_time": "2023-10-16T19:45:50.190613",
   "environment_variables": {},
   "exception": null,
   "input_path": "__notebook__.ipynb",
   "output_path": "__notebook__.ipynb",
   "parameters": {},
   "start_time": "2023-10-16T19:31:51.221187",
   "version": "2.4.0"
  }
 },
 "nbformat": 4,
 "nbformat_minor": 5
}
